{
 "cells": [
  {
   "cell_type": "code",
   "execution_count": 1,
   "id": "a93db9c2",
   "metadata": {},
   "outputs": [],
   "source": [
    "import tensorflow as tf\n",
    "import pandas as pd\n",
    "import os\n",
    "from keras.preprocessing.image import ImageDataGenerator, img_to_array, load_img\n",
    "from keras.models import Sequential\n",
    "from keras.layers import Conv2D, MaxPooling2D, Flatten, Dense\n",
    "import numpy as np\n"
   ]
  },
  {
   "cell_type": "code",
   "execution_count": null,
   "id": "5c89d581",
   "metadata": {},
   "outputs": [],
   "source": []
  },
  {
   "cell_type": "code",
   "execution_count": 3,
   "id": "32da32da",
   "metadata": {},
   "outputs": [],
   "source": [
    "train_files_healthy = \"C:\\\\Users\\\\suhas\\\\BACKEND\\\\plantdataset\\\\Train\\\\Train\\\\Healthy\"\n",
    "train_files_powdery = \"C:\\\\Users\\\\suhas\\\\BACKEND\\\\plantdataset\\\\Train\\\\Train\\\\Powdery\"\n",
    "train_files_rust = \"C:\\\\Users\\\\suhas\\\\BACKEND\\\\plantdataset\\\\Train\\\\Train\\\\Rust\"\n",
    "\n",
    "test_files_healthy = \"C:\\\\Users\\\\suhas\\\\BACKEND\\\\plantdataset\\\\Test\\\\Test\\\\Healthy\"\n",
    "test_files_powdery = \"C:\\\\Users\\\\suhas\\\\BACKEND\\\\plantdataset\\\\Test\\\\Test\\\\Powdery\"\n",
    "test_files_rust = \"C:\\\\Users\\\\suhas\\\\BACKEND\\\\plantdataset\\\\Test\\\\Test\\\\Rust\"\n",
    "\n",
    "valid_files_healthy = \"C:\\\\Users\\\\suhas\\\\BACKEND\\\\plantdataset\\\\Validation\\\\Validation\\\\Healthy\"\n",
    "valid_files_powdery = \"C:\\\\Users\\\\suhas\\\\BACKEND\\\\plantdataset\\\\Validation\\\\Validation\\\\Powdery\"\n",
    "valid_files_rust = \"C:\\\\Users\\\\suhas\\\\BACKEND\\\\plantdataset\\\\Validation\\\\Validation\\\\Rust\""
   ]
  },
  {
   "cell_type": "code",
   "execution_count": 4,
   "id": "763d26b2",
   "metadata": {},
   "outputs": [
    {
     "name": "stdout",
     "output_type": "stream",
     "text": [
      "training set\n",
      "Number of healthy leaf images in training set: 458\n",
      "Number of powdery leaf images in training set: 430\n",
      "Number of rusty leaf images in training set: 434\n",
      "\n",
      "test set\n",
      "Number of healthy leaf images in test set: 50\n",
      "Number of powdery leaf images in test set: 50\n",
      "Number of rusty leaf images in test set: 50\n",
      "\n",
      "validation\n",
      "Number of healthy leaf images in validation set: 20\n",
      "Number of powdery leaf images in validation set: 20\n",
      "Number of rusty leaf images in validation set: 20\n"
     ]
    }
   ],
   "source": [
    "def total_files(folder_path):\n",
    "    num_files = len([f for f in os.listdir(folder_path) if os.path.isfile(os.path.join(folder_path, f))])\n",
    "    return num_files\n",
    "\n",
    "print(\"training set\")\n",
    "print(\"Number of healthy leaf images in training set:\", total_files(train_files_healthy))\n",
    "print(\"Number of powdery leaf images in training set:\", total_files(train_files_powdery))\n",
    "print(\"Number of rusty leaf images in training set:\", total_files(train_files_rust))\n",
    "\n",
    "print(\"\\ntest set\")\n",
    "print(\"Number of healthy leaf images in test set:\", total_files(test_files_healthy))\n",
    "print(\"Number of powdery leaf images in test set:\", total_files(test_files_powdery))\n",
    "print(\"Number of rusty leaf images in test set:\", total_files(test_files_rust))\n",
    "\n",
    "print(\"\\nvalidation\")\n",
    "print(\"Number of healthy leaf images in validation set:\", total_files(valid_files_healthy))\n",
    "print(\"Number of powdery leaf images in validation set:\", total_files(valid_files_powdery))\n",
    "print(\"Number of rusty leaf images in validation set:\", total_files(valid_files_rust))"
   ]
  },
  {
   "cell_type": "code",
   "execution_count": 5,
   "id": "c35dbbc3",
   "metadata": {},
   "outputs": [
    {
     "name": "stdout",
     "output_type": "stream",
     "text": [
      "Found 1322 images belonging to 3 classes.\n",
      "Found 60 images belonging to 3 classes.\n"
     ]
    }
   ],
   "source": [
    "train_datagen = ImageDataGenerator(rescale=1./255, shear_range=0.2, zoom_range=0.2, horizontal_flip=True)\n",
    "test_datagen = ImageDataGenerator(rescale=1./255)\n",
    "\n",
    "train_gen = train_datagen.flow_from_directory(\"C:\\\\Users\\\\suhas\\\\BACKEND\\\\plantdataset\\\\Train\\\\Train\",\n",
    "                                              target_size=(225, 225),\n",
    "                                              batch_size=32,\n",
    "                                              class_mode='categorical')\n",
    "\n",
    "validation_gen = test_datagen.flow_from_directory('C:\\\\Users\\\\suhas\\\\BACKEND\\\\plantdataset\\\\Validation\\\\Validation',\n",
    "                                                  target_size=(225, 225),\n",
    "                                                  batch_size=32,\n",
    "                                                  class_mode='categorical')"
   ]
  },
  {
   "cell_type": "code",
   "execution_count": 6,
   "id": "7479f438",
   "metadata": {},
   "outputs": [],
   "source": [
    "model = Sequential([\n",
    "    Conv2D(32, (3, 3), input_shape=(225, 225, 3), activation='relu'),\n",
    "    MaxPooling2D(pool_size=(2, 2)),\n",
    "    Conv2D(64, (3, 3), activation='relu'),\n",
    "    MaxPooling2D(pool_size=(2, 2)),\n",
    "    Flatten(),\n",
    "    Dense(64, activation='relu'),\n",
    "    Dense(3, activation='softmax')\n",
    "])\n",
    "\n",
    "model.compile(optimizer='adam', loss='categorical_crossentropy', metrics=['accuracy'])"
   ]
  },
  {
   "cell_type": "code",
   "execution_count": 7,
   "id": "ba367bf3",
   "metadata": {},
   "outputs": [
    {
     "name": "stdout",
     "output_type": "stream",
     "text": [
      "Epoch 1/5\n",
      "42/42 [==============================] - 230s 5s/step - loss: 2.1885 - accuracy: 0.4796 - val_loss: 0.7787 - val_accuracy: 0.6000\n",
      "Epoch 2/5\n",
      "42/42 [==============================] - 221s 5s/step - loss: 0.5481 - accuracy: 0.7700 - val_loss: 0.4829 - val_accuracy: 0.8500\n",
      "Epoch 3/5\n",
      "42/42 [==============================] - 213s 5s/step - loss: 0.3972 - accuracy: 0.8381 - val_loss: 0.5714 - val_accuracy: 0.7333\n",
      "Epoch 4/5\n",
      "42/42 [==============================] - 216s 5s/step - loss: 0.2649 - accuracy: 0.9054 - val_loss: 0.4908 - val_accuracy: 0.8333\n",
      "Epoch 5/5\n",
      "42/42 [==============================] - 226s 5s/step - loss: 0.2487 - accuracy: 0.9115 - val_loss: 0.4491 - val_accuracy: 0.8667\n"
     ]
    },
    {
     "name": "stderr",
     "output_type": "stream",
     "text": [
      "C:\\Users\\suhas\\anaconda3\\Lib\\site-packages\\keras\\src\\engine\\training.py:3079: UserWarning: You are saving your model as an HDF5 file via `model.save()`. This file format is considered legacy. We recommend using instead the native Keras format, e.g. `model.save('my_model.keras')`.\n",
      "  saving_api.save_model(\n"
     ]
    }
   ],
   "source": [
    "\n",
    "history = model.fit(train_gen,\n",
    "                    batch_size=16,\n",
    "                    epochs=5,\n",
    "                    validation_data=validation_gen,\n",
    "                    validation_batch_size=16\n",
    "                    )\n",
    "\n",
    "model.save(\"model.h5\")"
   ]
  },
  {
   "cell_type": "code",
   "execution_count": 8,
   "id": "15c4052d",
   "metadata": {},
   "outputs": [
    {
     "name": "stdout",
     "output_type": "stream",
     "text": [
      "1/1 [==============================] - 0s 244ms/step\n"
     ]
    }
   ],
   "source": [
    "\n",
    "def preprocess_image(image_path, target_size=(225, 225)):\n",
    "    img = load_img(image_path, target_size=target_size)\n",
    "    x = img_to_array(img)\n",
    "    x = x.astype('float32') / 255.\n",
    "    x = np.expand_dims(x, axis=0)\n",
    "    return x\n",
    "\n",
    "x = preprocess_image(\"C:\\\\Users\\\\suhas\\\\BACKEND\\\\plantdataset\\\\Test\\\\Test\\\\Powdery\\\\9ed17032dce2f984.jpg\")\n",
    "predictions = model.predict(x)\n",
    "\n"
   ]
  },
  {
   "cell_type": "code",
   "execution_count": 9,
   "id": "9c79669c",
   "metadata": {},
   "outputs": [
    {
     "name": "stdout",
     "output_type": "stream",
     "text": [
      "Predicted Label: Powdery\n"
     ]
    }
   ],
   "source": [
    "\n",
    "labels = train_gen.class_indices\n",
    "labels = {v: k for k, v in labels.items()}\n",
    "predicted_label = labels[np.argmax(predictions)]\n",
    "\n",
    "print(\"Predicted Label:\", predicted_label)"
   ]
  },
  {
   "cell_type": "code",
   "execution_count": 10,
   "id": "3b319c75",
   "metadata": {},
   "outputs": [
    {
     "name": "stdout",
     "output_type": "stream",
     "text": [
      "The plant has powdery mildew disease. Powdery mildew is a fungal disease of the foliage, stems, and occasionally flowers and fruit.\n",
      "<a href='https://agri.gujarat.gov.in/index.htm'>Know More</a>\n"
     ]
    }
   ],
   "source": [
    "\n",
    "\n",
    "\n",
    "# Provide explanation for predicted label\n",
    "if predicted_label == 'Healthy':\n",
    "    print(\"The plant is healthy.\")\n",
    "    print(\"<a href='https://agri.gujarat.gov.in/index.htm'>Know More</a>\")\n",
    "elif predicted_label == 'Rust':\n",
    "    print(\"The plant has rust disease. Rust diseases are amongst the most common fungal diseases of garden plants.\")\n",
    "    print(\"<a href='https://agri.gujarat.gov.in/index.htm'>Know More</a>\")\n",
    "else:\n",
    "    print(\"The plant has powdery mildew disease. Powdery mildew is a fungal disease of the foliage, stems, and occasionally flowers and fruit.\")\n",
    "    print(\"<a href='https://agri.gujarat.gov.in/index.htm'>Know More</a>\")"
   ]
  },
  {
   "cell_type": "code",
   "execution_count": null,
   "id": "faf89b0c",
   "metadata": {},
   "outputs": [],
   "source": []
  }
 ],
 "metadata": {
  "kernelspec": {
   "display_name": "Python 3 (ipykernel)",
   "language": "python",
   "name": "python3"
  },
  "language_info": {
   "codemirror_mode": {
    "name": "ipython",
    "version": 3
   },
   "file_extension": ".py",
   "mimetype": "text/x-python",
   "name": "python",
   "nbconvert_exporter": "python",
   "pygments_lexer": "ipython3",
   "version": "3.11.3"
  }
 },
 "nbformat": 4,
 "nbformat_minor": 5
}
